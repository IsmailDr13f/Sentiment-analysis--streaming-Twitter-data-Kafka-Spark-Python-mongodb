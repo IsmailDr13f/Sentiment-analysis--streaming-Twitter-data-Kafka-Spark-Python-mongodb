{
 "cells": [
  {
   "cell_type": "code",
   "execution_count": 1,
   "id": "89ec1c50-d5c4-448d-8593-d33199820743",
   "metadata": {},
   "outputs": [],
   "source": [
    "import os\n",
    "import sys\n",
    "os.environ['PYSPARK_SUBMIT_ARGS'] = '--packages org.apache.spark:spark-streaming-kafka-0-10_2.12:3.2.0,org.apache.spark:spark-sql-kafka-0-10_2.12:3.2.0 pyspark-shell'\n",
    "os.environ['PYSPARK_PYTHON'] = sys.executable\n",
    "os.environ['PYSPARK_DRIVER_PYTHON'] = sys.executable\n",
    "\n",
    "import json\n",
    "from pyspark import SparkConf, SparkContext\n",
    "from pyspark.sql import SparkSession\n",
    "from pyspark.sql.functions import from_json, col, udf\n",
    "from pyspark.ml.feature import HashingTF, IDF, Tokenizer, StopWordsRemover\n",
    "import re\n",
    "import pandas as pd\n",
    "from pyspark.ml.classification import LogisticRegression\n",
    "from pyspark.ml import Pipeline\n",
    "from pyspark.ml.evaluation import MulticlassClassificationEvaluator\n",
    "from pyspark.ml import PipelineModel\n"
   ]
  },
  {
   "cell_type": "code",
   "execution_count": 2,
   "id": "b6dbe03d-226e-4844-8e4e-65b7b75e8e3d",
   "metadata": {},
   "outputs": [],
   "source": [
    "#create Spark session:\n",
    "spark = SparkSession \\\n",
    "    .builder \\\n",
    "    .master(\"local[*]\")\\\n",
    "    .appName(\"Sentiment Analysis in Spark\") \\\n",
    "    .config(\"spark.executor.instances\", \"4\") \\\n",
    "    .config(\"spark.executor.memory\", \"16g\") \\\n",
    "    .config(\"spark.driver.memory\", \"16g\") \\\n",
    "    .getOrCreate()"
   ]
  },
  {
   "cell_type": "code",
   "execution_count": 3,
   "id": "faac2716-67b5-4a59-99da-fe99779554d7",
   "metadata": {},
   "outputs": [],
   "source": [
    "#Import cleaning tools\n",
    "from Clean_Func import convert_to_bytes, bytes_to_json, clean_tweet_content"
   ]
  },
  {
   "cell_type": "code",
   "execution_count": 4,
   "id": "8ff1c7fc-cc10-4e09-8b2b-4d52640cd5a9",
   "metadata": {},
   "outputs": [],
   "source": [
    "#Preprocessing\n",
    "# Pipeline stages\n",
    "tokenizer = Tokenizer(inputCol=\"tweet_content\", outputCol=\"Tweet_vect_\")\n",
    "remover = StopWordsRemover(inputCol=\"Tweet_vect_\", outputCol=\"Filtered_tweet\")\n",
    "hashTF = HashingTF(inputCol=\"Filtered_tweet\", outputCol=\"features\")\n",
    "lr = LogisticRegression(labelCol=\"sentiment\", featuresCol=\"features\", maxIter=10, regParam=0.01)\n",
    "\n",
    "# Define Pipeline\n",
    "pipeline = Pipeline(stages=[tokenizer, remover, hashTF, lr])\n",
    "\n",
    "# Load and preprocess data\n",
    "data__ = []\n",
    "with open('twitter_training.csv', 'r', errors='ignore') as file:\n",
    "    for line in file:\n",
    "        json_data = convert_to_bytes(line)\n",
    "        data__.append(json.dumps(json_data).encode('utf-8'))\n",
    "\n",
    "js_data__ = [bytes_to_json(dt) for dt in data__]\n",
    "df_senti = pd.DataFrame(js_data__)\n",
    "\n",
    "for i in range(len(df_senti['tweet_content'])):\n",
    "    df_senti['tweet_content'][i] = clean_tweet_content(df_senti['tweet_content'][i])\n",
    "\n",
    "for i in range(len(df_senti['sentiment'])):\n",
    "    if df_senti['sentiment'][i] == 'Positive':\n",
    "        df_senti['sentiment'][i] = 0\n",
    "    elif df_senti['sentiment'][i] == 'Neutral':\n",
    "        df_senti['sentiment'][i] = 1\n",
    "    elif df_senti['sentiment'][i] == 'Negative':\n",
    "        df_senti['sentiment'][i] = 2\n",
    "    elif df_senti['sentiment'][i] == 'Irrelevant':\n",
    "        df_senti['sentiment'][i] = 3\n",
    "\n",
    "data_u = df_senti[['tweet_content', 'sentiment']]\n",
    "spark_df = spark.createDataFrame(data_u)\n",
    "\n",
    "# Train model\n",
    "pipeline_model = pipeline.fit(spark_df)\n",
    "\n",
    "# Save the model\n",
    "#pipeline_model.save('pipeline_v1')"
   ]
  },
  {
   "cell_type": "code",
   "execution_count": 5,
   "id": "452f23ef-61bd-47a6-ad23-88cc7afe9b63",
   "metadata": {},
   "outputs": [
    {
     "name": "stdout",
     "output_type": "stream",
     "text": [
      "Accuracy: 89.04%\n"
     ]
    }
   ],
   "source": [
    "# Load the model to use:\n",
    "loaded_model = PipelineModel.load('pipeline_v1')\n",
    "\n",
    "# Split data into training and testing sets\n",
    "train_data, test_data = spark_df.randomSplit([0.8, 0.2], seed=442)\n",
    "\n",
    "# Make predictions on the test data\n",
    "predictions = loaded_model.transform(test_data)\n",
    "\n",
    "# Model evaluation\n",
    "evaluator = MulticlassClassificationEvaluator(labelCol=\"sentiment\", predictionCol=\"prediction\", metricName=\"accuracy\")\n",
    "accuracy = evaluator.evaluate(predictions)\n",
    "\n",
    "# Print the accuracy\n",
    "print(\"Accuracy: {:.2f}%\".format(accuracy * 100))"
   ]
  }
 ],
 "metadata": {
  "kernelspec": {
   "display_name": "Python 3 (ipykernel)",
   "language": "python",
   "name": "python3"
  },
  "language_info": {
   "codemirror_mode": {
    "name": "ipython",
    "version": 3
   },
   "file_extension": ".py",
   "mimetype": "text/x-python",
   "name": "python",
   "nbconvert_exporter": "python",
   "pygments_lexer": "ipython3",
   "version": "3.11.7"
  }
 },
 "nbformat": 4,
 "nbformat_minor": 5
}
