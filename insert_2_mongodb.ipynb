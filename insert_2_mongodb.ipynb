{
 "cells": [
  {
   "cell_type": "code",
   "execution_count": 1,
   "id": "7df9ed32-bd6a-4700-9620-59c3517e7f41",
   "metadata": {},
   "outputs": [
    {
     "name": "stderr",
     "output_type": "stream",
     "text": [
      "\n",
      "KeyboardInterrupt\n",
      "\n"
     ]
    }
   ],
   "source": [
    "import os\n",
    "import json\n",
    "import pymongo\n",
    "from pymongo import MongoClient\n",
    "from datetime import datetime\n",
    "import time\n",
    "\n",
    "# Connect to MongoDB\n",
    "client = MongoClient('mongodb://localhost:27017/')\n",
    "db = client['tweet_db']  \n",
    "collection = db['tweet_col'] \n",
    "checkpoint_collection = db['checkpoint']\n",
    "\n",
    "# Function to insert files into MongoDB\n",
    "def insert_files(directory):\n",
    "    for filename in os.listdir(directory):\n",
    "        if filename.endswith(\".json\"):\n",
    "            with open(os.path.join(directory, filename), 'r',encoding='UTF-8') as file:\n",
    "                for line in file:\n",
    "                    data = json.loads(line)\n",
    "                    # Add timestamp\n",
    "                    data['timestamp'] = datetime.now()\n",
    "                    collection.insert_one(data)\n",
    "                    time.sleep(2)\n",
    "            # Store filename in checkpoint collection\n",
    "            checkpoint_collection.insert_one({'filename': filename})\n",
    "\n",
    "\n",
    "# Call the function with the directory containing your files\n",
    "insert_files('json_files')\n"
   ]
  }
 ],
 "metadata": {
  "kernelspec": {
   "display_name": "Python 3 (ipykernel)",
   "language": "python",
   "name": "python3"
  },
  "language_info": {
   "codemirror_mode": {
    "name": "ipython",
    "version": 3
   },
   "file_extension": ".py",
   "mimetype": "text/x-python",
   "name": "python",
   "nbconvert_exporter": "python",
   "pygments_lexer": "ipython3",
   "version": "3.11.7"
  }
 },
 "nbformat": 4,
 "nbformat_minor": 5
}
